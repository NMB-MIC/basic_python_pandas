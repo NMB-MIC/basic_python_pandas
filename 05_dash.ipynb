{
 "cells": [
  {
   "cell_type": "markdown",
   "metadata": {},
   "source": [
    "## Dash library"
   ]
  },
  {
   "cell_type": "code",
   "execution_count": null,
   "metadata": {},
   "outputs": [],
   "source": [
    "import dash\n",
    "import dash_html_components as html\n",
    "import dash_core_components as dcc"
   ]
  },
  {
   "cell_type": "markdown",
   "metadata": {},
   "source": [
    "#### Simple dash"
   ]
  },
  {
   "cell_type": "code",
   "execution_count": null,
   "metadata": {},
   "outputs": [],
   "source": [
    "app = dash.Dash()\n",
    "\n",
    "app.layout = html.Div(\n",
    "    children=[html.H1(children=\"H1 in dash\"),\n",
    "    html.H4(children=\"H1 in dash2\"),\n",
    "    dcc.Graph(figure={\n",
    "        'data': [\n",
    "        {'x': [1,2,3],'y':[4,1,2],'type':\"bar\",'name':'SF'},\n",
    "        {'x': [1,2,3],'y':[2,4,5],'type':\"bar\",'name':\"Montreal\"}\n",
    "        ],\n",
    "        'layout':{\n",
    "            'title': \"Dash data visualization\"\n",
    "        }\n",
    "    }),\n",
    "    ]\n",
    ")\n",
    "\n",
    "if __name__ == '__main__':\n",
    "    app.run_server()\n"
   ]
  },
  {
   "cell_type": "code",
   "execution_count": 37,
   "metadata": {},
   "outputs": [
    {
     "name": "stdout",
     "output_type": "stream",
     "text": [
      "Dash is running on http://127.0.0.1:8050/\n",
      "\n",
      "Dash is running on http://127.0.0.1:8050/\n",
      "\n",
      "Dash is running on http://127.0.0.1:8050/\n",
      "\n",
      "Dash is running on http://127.0.0.1:8050/\n",
      "\n",
      "Dash is running on http://127.0.0.1:8050/\n",
      "\n",
      "Dash is running on http://127.0.0.1:8050/\n",
      "\n",
      "Dash is running on http://127.0.0.1:8050/\n",
      "\n",
      "Dash is running on http://127.0.0.1:8050/\n",
      "\n",
      "Dash is running on http://127.0.0.1:8050/\n",
      "\n",
      "Dash is running on http://127.0.0.1:8050/\n",
      "\n",
      "Dash is running on http://127.0.0.1:8050/\n",
      "\n",
      " * Serving Flask app '__main__' (lazy loading)\n",
      " * Environment: production\n",
      "\u001b[31m   WARNING: This is a development server. Do not use it in a production deployment.\u001b[0m\n",
      "\u001b[2m   Use a production WSGI server instead.\u001b[0m\n",
      " * Debug mode: off\n"
     ]
    },
    {
     "name": "stderr",
     "output_type": "stream",
     "text": [
      " * Running on http://127.0.0.1:8050 (Press CTRL+C to quit)\n",
      "127.0.0.1 - - [18/Jul/2022 15:32:13] \"GET / HTTP/1.1\" 200 -\n",
      "127.0.0.1 - - [18/Jul/2022 15:32:13] \"GET /_dash-layout HTTP/1.1\" 200 -\n",
      "127.0.0.1 - - [18/Jul/2022 15:32:13] \"GET /_dash-dependencies HTTP/1.1\" 200 -\n",
      "127.0.0.1 - - [18/Jul/2022 15:32:13] \"GET /_favicon.ico?v=2.6.0 HTTP/1.1\" 200 -\n",
      "127.0.0.1 - - [18/Jul/2022 15:32:13] \"GET /_dash-component-suites/dash/dcc/async-graph.js HTTP/1.1\" 304 -\n",
      "127.0.0.1 - - [18/Jul/2022 15:32:13] \"GET /_dash-component-suites/dash/dcc/async-plotlyjs.js HTTP/1.1\" 304 -\n"
     ]
    }
   ],
   "source": [
    "hi = html.H1(children=\"H1 in dash\",style={'textAlign': 'center','color': '#D429BD'})\n",
    "hi2 = html.H4(children=\"H1 in dash2\")\n",
    "\n",
    "datas = [{'x': [1,2,3],'y':[4,1,2],'type':\"bar\",'name':'SF'},{'x': [1,2,3],'y':[2,4,5],'type':\"bar\",'name':\"Montreal\"}]\n",
    "title = \"Dash data visualization\"\n",
    "\n",
    "graph = dcc.Graph(figure={\n",
    "        'data': datas,\n",
    "        'layout':{\n",
    "            'title': title,\n",
    "            'plot_bgcolor': \"D2DBEC\",\n",
    "            'font':{\n",
    "                'color': \"D73838\"\n",
    "            }\n",
    "        }\n",
    "    })\n",
    "\n",
    "app.layout = html.Div(children=[hi,hi2,graph])\n",
    "\n",
    "if __name__ == '__main__':\n",
    "    app.run_server()\n"
   ]
  }
 ],
 "metadata": {
  "kernelspec": {
   "display_name": "Python 3.9.0 ('python39')",
   "language": "python",
   "name": "python3"
  },
  "language_info": {
   "codemirror_mode": {
    "name": "ipython",
    "version": 3
   },
   "file_extension": ".py",
   "mimetype": "text/x-python",
   "name": "python",
   "nbconvert_exporter": "python",
   "pygments_lexer": "ipython3",
   "version": "3.9.0"
  },
  "orig_nbformat": 4,
  "vscode": {
   "interpreter": {
    "hash": "19883077bbaecceb485cc1e4f069eda4ba7bbefcd475cd3a47cce582c6f8339a"
   }
  }
 },
 "nbformat": 4,
 "nbformat_minor": 2
}
