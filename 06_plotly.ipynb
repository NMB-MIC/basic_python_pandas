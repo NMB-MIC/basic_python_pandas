{
 "cells": [
  {
   "cell_type": "markdown",
   "metadata": {},
   "source": [
    "## Plotly"
   ]
  },
  {
   "cell_type": "markdown",
   "metadata": {},
   "source": [
    "#### static matplotlib plot"
   ]
  },
  {
   "cell_type": "code",
   "execution_count": null,
   "metadata": {},
   "outputs": [],
   "source": [
    "import numpy as np\n",
    "import pandas as pd\n",
    "import matplotlib.pyplot as plt\n",
    "import plotly.graph_objs as go\n",
    "import plotly.offline as pyo"
   ]
  },
  {
   "cell_type": "code",
   "execution_count": null,
   "metadata": {},
   "outputs": [],
   "source": [
    "df = pd.DataFrame(np.random.randn(100,4),columns=\"A B C D\".split())\n",
    "df"
   ]
  },
  {
   "cell_type": "code",
   "execution_count": null,
   "metadata": {},
   "outputs": [],
   "source": [
    "df.plot()\n",
    "plt.show()"
   ]
  },
  {
   "cell_type": "code",
   "execution_count": null,
   "metadata": {},
   "outputs": [],
   "source": [
    "plot_lists = [{\n",
    "    'x': df.index,\n",
    "    'y': df[col],\n",
    "    'name': col\n",
    "}for col in df.columns]\n",
    "\n",
    "pyo.plot(plot_lists)"
   ]
  },
  {
   "cell_type": "markdown",
   "metadata": {},
   "source": [
    "#### Scatter"
   ]
  },
  {
   "cell_type": "code",
   "execution_count": null,
   "metadata": {},
   "outputs": [],
   "source": [
    "np.random.seed(42)\n",
    "random_x = np.random.randint(1,101,100)\n",
    "random_y = np.random.randint(1,101,100)\n",
    "\n",
    "df = pd.DataFrame(list(zip(random_x,random_y)),columns=['X',\"Y\"])\n",
    "df"
   ]
  },
  {
   "cell_type": "code",
   "execution_count": null,
   "metadata": {},
   "outputs": [],
   "source": [
    "data = [go.Scatter(\n",
    "    x = df[\"X\"],\n",
    "    y = df[\"Y\"],\n",
    "    mode= \"markers\",\n",
    "    marker= dict(\n",
    "        size=12,\n",
    "        color = 'rgb(51,204,153)',\n",
    "        symbol = 'pentagon',\n",
    "        line = dict(\n",
    "            width = 3,\n",
    "        )\n",
    "    )\n",
    ")]\n",
    "\n",
    "layout = go.Layout(\n",
    "    title= \"Random data scatterplot\",\n",
    "    xaxis= dict(title=\"Some random x-values\"),\n",
    "    yaxis = dict(title=\"Some random y-values\"),\n",
    ")\n",
    "\n",
    "fig = go.Figure(data=data,layout=layout)\n",
    "pyo.plot(fig,filename=\"scatter1.html\")\n"
   ]
  },
  {
   "cell_type": "markdown",
   "metadata": {},
   "source": [
    "#### line"
   ]
  },
  {
   "cell_type": "code",
   "execution_count": null,
   "metadata": {},
   "outputs": [],
   "source": [
    "np.random.seed(42)\n",
    "random_x = np.linspace(0,1,100)\n",
    "random_y = np.random.randn(100)\n",
    "\n",
    "df = pd.DataFrame(list(zip(random_x,random_y)),columns=['X',\"Y\"])\n",
    "df"
   ]
  },
  {
   "cell_type": "code",
   "execution_count": null,
   "metadata": {},
   "outputs": [],
   "source": [
    "trace0 = go.Scatter(\n",
    "    x = df[\"X\"],\n",
    "    y = df[\"Y\"],\n",
    "    mode='lines+markers',\n",
    ")\n",
    "\n",
    "trace1 = go.Scatter(\n",
    "    x = df[\"X\"],\n",
    "    y = df[\"Y\"]+5,\n",
    "    mode='markers',\n",
    ")\n",
    "\n",
    "trace2 = go.Scatter(\n",
    "    x = df[\"X\"],\n",
    "    y = df[\"Y\"]-5,\n",
    "    mode='lines',\n",
    ")\n",
    "\n",
    "layout = go.Layout(\n",
    "    title= \"Line chart\",\n",
    "    xaxis = dict(title = 'Some random x-values'), \n",
    "    yaxis = dict(title = 'Some random y-values'), \n",
    ")\n",
    "\n",
    "data = [trace0,trace1,trace2]\n",
    "fig = go.Figure(data=data,layout=layout)\n",
    "pyo.plot(fig,filename=\"line.html\")"
   ]
  }
 ],
 "metadata": {
  "kernelspec": {
   "display_name": "Python 3.9.0 ('python39')",
   "language": "python",
   "name": "python3"
  },
  "language_info": {
   "codemirror_mode": {
    "name": "ipython",
    "version": 3
   },
   "file_extension": ".py",
   "mimetype": "text/x-python",
   "name": "python",
   "nbconvert_exporter": "python",
   "pygments_lexer": "ipython3",
   "version": "3.9.0"
  },
  "orig_nbformat": 4,
  "vscode": {
   "interpreter": {
    "hash": "19883077bbaecceb485cc1e4f069eda4ba7bbefcd475cd3a47cce582c6f8339a"
   }
  }
 },
 "nbformat": 4,
 "nbformat_minor": 2
}
